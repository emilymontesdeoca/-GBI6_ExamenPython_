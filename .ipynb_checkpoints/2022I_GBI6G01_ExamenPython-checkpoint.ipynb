{
 "cells": [
  {
   "cell_type": "markdown",
   "metadata": {},
   "source": [
    "<img src=\"http://eva.ikiam.edu.ec/pluginfile.php/1/core_admin/logo/0x150/1636497623/logotipoIkiam.png\" width=300 height=240 />\n",
    "# EXAMEN PARCIAL PYTHON\n",
    "    \n",
    "\n",
    "## GBI6-2021II: BIOINFORMÁTICA\n",
    "\n",
    "**Montesdeoca, Emily**\n",
    "\n",
    "**05-08-2022**"
   ]
  },
  {
   "cell_type": "markdown",
   "metadata": {},
   "source": [
    "<font color='red'>Color de texto</font>\n"
   ]
  },
  {
   "cell_type": "markdown",
   "metadata": {},
   "source": [
    "### REQUERIMIENTOS PARA EL EXAMEN\n",
    "\n",
    "Utilice de preferencia ```Jupyter``` de Anaconda, dado que tienen que hacer un control de cambios en cada pregunta. \n",
    "\n",
    "Para este examen se requiere dos documentos: \n",
    "\n",
    "1. Archivo ```miningscience.py``` donde tendrá dos funciones:\n",
    "\n",
    "2. Archivo ```2022I_GBI6_ExamenPython``` donde se llamará las funciones y se obtendrá resultados."
   ]
  },
  {
   "cell_type": "markdown",
   "metadata": {},
   "source": [
    "## Ejercicio 0 [0.5 puntos]\n",
    "Realice cambios al cuaderno de jupyter: \n",
    "- Agregue el logo de la Universidad\n",
    "- Coloque sus datos personales \n",
    "- Escriba una **tabla** con las características de su computador \n",
    "| Caracteristicas del computador | \n",
    "| :---: |\n",
    "| Nombre del dispositvo: DESKTOP-STI2M04 |\n",
    "|Tipo de sistema: Sistema operativo de 64 bits, procesador basado en x64|\n",
    "| RAM instalada: 12,0 GB |\n",
    "| Procesador: Intel(R) Core(TM) i5-8250U CPU @ 1.60GHz   1.80 GHz | \n",
    "| Identificador de dispositivo:  76B4D889-7384-419F-BBDD-B519C20F31AC |"
   ]
  },
  {
   "cell_type": "markdown",
   "metadata": {},
   "source": [
    "## Ejercicio 1 [2 puntos]\n",
    "Cree el archivo ```miningscience.py``` con las siguientes dos funciones:\n",
    "    \n",
    "i. ```download_pubmed```: para descargar la data de PubMed utilizando el **ENTREZ** de Biopython. El parámetro de entrada para la función es el ```keyword```. \n",
    "    \n",
    "ii. ```science_plots```: la función debe \n",
    "\n",
    "- utilizar como argumento de entrada la data descargada por ```download_pubmed```\n",
    "- ordenar los conteos de autores por país en orden ascedente y \n",
    "- seleccionar los cinco más abundantes. Con esta selección debe graficar un ```pie_plot```. Como guía para el conteo por países puede usar el ejemplo de [MapOfScience](https://github.com/CSB-book/CSB/blob/master/regex/solutions/MapOfScience_solution.ipynb). \n",
    "\n",
    "iii *Cree un docstring para cada función.* \n",
    "\n",
    "Luego de crear las funciones, cargue el módulo ```miningscience``` como ```msc``` e **imprima docstring de cada función**.\n"
   ]
  },
  {
   "cell_type": "code",
   "execution_count": null,
   "metadata": {},
   "outputs": [],
   "source": [
    "# Escriba aquí su código para el ejercicio 1\n",
    "import miningscience_g01 as msc\n",
    "help (msc.download_pubmed)\n",
    "help (msc.science_plots)\n",
    "\n",
    "\n",
    "\n",
    "\n",
    "\n",
    "\n",
    "\n",
    "\n",
    "\n",
    "\n",
    "\n"
   ]
  },
  {
   "cell_type": "markdown",
   "metadata": {},
   "source": [
    "\n",
    "## Ejercicio 2 [2 puntos]\n",
    "\n",
    "\n",
    "Utilice dos veces la función ```download_pubmed``` para: \n",
    "\n",
    "- Descargar la data, utilizando los keyword de su preferencia. \n",
    "- Guardar el archivo descargado en la carpeta ```data```.\n",
    "\n",
    "Para cada corrida, imprima lo siguiente: \n",
    "\n",
    "```python\n",
    "'El número artículos para KEYWORD es: XX' # Que se cargue con inserción de texto o valor que correspondea KEYWORD y XX\n",
    "```"
   ]
  },
  {
   "cell_type": "code",
   "execution_count": 1,
   "metadata": {},
   "outputs": [
    {
     "name": "stdout",
     "output_type": "stream",
     "text": [
      "El numero de articulos para la KEYWORD (Buerger) es:  645360\n",
      "El numero de articulos para la KEYWORD (Gastritis) es:  6370957\n"
     ]
    }
   ],
   "source": [
    "# Escriba aquí su código para el ejercicio 2\n",
    "import miningscience_g01 as msc\n",
    "import re\n",
    "my_data2= msc.download_pubmed (\"Buerger[Title/Abstract]\")\n",
    "contar = len (my_data2)\n",
    "print(\"El numero de articulos para la KEYWORD (Buerger) es: \", contar)\n",
    "with open (\"data/Buerger.txt\",\"w\") as txt:\n",
    "    txt.write(my_data2)\n",
    "my_data3= msc.download_pubmed (\"Gastritis[Title/Abstract]\")\n",
    "contar = len (my_data3)\n",
    "print(\"El numero de articulos para la KEYWORD (Gastritis) es: \", contar)\n",
    "with open (\"data/Gastritis.txt\",\"w\") as txt:\n",
    "    txt.write(my_data3)"
   ]
  },
  {
   "cell_type": "markdown",
   "metadata": {},
   "source": [
    "## Ejercicio 3 [1.5 puntos]\n",
    "\n",
    "Utilice dos veces la función ```science_plots``` para: \n",
    "\n",
    "- Visualizar un pie_plot para cada data descargada en el ejercicio 2.\n",
    "- Guardar los pie_plot en la carpeta ```img```"
   ]
  },
  {
   "cell_type": "code",
   "execution_count": 2,
   "metadata": {},
   "outputs": [
    {
     "data": {
      "text/html": [
       "<div>\n",
       "<style scoped>\n",
       "    .dataframe tbody tr th:only-of-type {\n",
       "        vertical-align: middle;\n",
       "    }\n",
       "\n",
       "    .dataframe tbody tr th {\n",
       "        vertical-align: top;\n",
       "    }\n",
       "\n",
       "    .dataframe thead th {\n",
       "        text-align: right;\n",
       "    }\n",
       "</style>\n",
       "<table border=\"1\" class=\"dataframe\">\n",
       "  <thead>\n",
       "    <tr style=\"text-align: right;\">\n",
       "      <th></th>\n",
       "      <th>Pais</th>\n",
       "      <th>Numero de autores</th>\n",
       "    </tr>\n",
       "  </thead>\n",
       "  <tbody>\n",
       "    <tr>\n",
       "      <th>15</th>\n",
       "      <td>Japan</td>\n",
       "      <td>81</td>\n",
       "    </tr>\n",
       "    <tr>\n",
       "      <th>8</th>\n",
       "      <td>France</td>\n",
       "      <td>25</td>\n",
       "    </tr>\n",
       "    <tr>\n",
       "      <th>30</th>\n",
       "      <td>USA</td>\n",
       "      <td>24</td>\n",
       "    </tr>\n",
       "    <tr>\n",
       "      <th>28</th>\n",
       "      <td>Turkey</td>\n",
       "      <td>21</td>\n",
       "    </tr>\n",
       "    <tr>\n",
       "      <th>14</th>\n",
       "      <td>Italy</td>\n",
       "      <td>19</td>\n",
       "    </tr>\n",
       "  </tbody>\n",
       "</table>\n",
       "</div>"
      ],
      "text/plain": [
       "      Pais  Numero de autores\n",
       "15   Japan                 81\n",
       "8   France                 25\n",
       "30     USA                 24\n",
       "28  Turkey                 21\n",
       "14   Italy                 19"
      ]
     },
     "execution_count": 2,
     "metadata": {},
     "output_type": "execute_result"
    }
   ],
   "source": [
    "data_frame= msc.science_plots(my_data2)\n",
    "data_frame1 = data_frame.sort_values (by=['Numero de autores'], ascending=False)\n",
    "data_frame2= data_frame1.iloc[0:5]\n",
    "data_frame2"
   ]
  },
  {
   "cell_type": "code",
   "execution_count": 3,
   "metadata": {},
   "outputs": [
    {
     "data": {
      "text/html": [
       "<div>\n",
       "<style scoped>\n",
       "    .dataframe tbody tr th:only-of-type {\n",
       "        vertical-align: middle;\n",
       "    }\n",
       "\n",
       "    .dataframe tbody tr th {\n",
       "        vertical-align: top;\n",
       "    }\n",
       "\n",
       "    .dataframe thead th {\n",
       "        text-align: right;\n",
       "    }\n",
       "</style>\n",
       "<table border=\"1\" class=\"dataframe\">\n",
       "  <thead>\n",
       "    <tr style=\"text-align: right;\">\n",
       "      <th></th>\n",
       "      <th>Pais</th>\n",
       "      <th>Numero de autores</th>\n",
       "    </tr>\n",
       "  </thead>\n",
       "  <tbody>\n",
       "    <tr>\n",
       "      <th>14</th>\n",
       "      <td>China</td>\n",
       "      <td>2837</td>\n",
       "    </tr>\n",
       "    <tr>\n",
       "      <th>39</th>\n",
       "      <td>Japan</td>\n",
       "      <td>1286</td>\n",
       "    </tr>\n",
       "    <tr>\n",
       "      <th>38</th>\n",
       "      <td>Italy</td>\n",
       "      <td>905</td>\n",
       "    </tr>\n",
       "    <tr>\n",
       "      <th>91</th>\n",
       "      <td>USA</td>\n",
       "      <td>801</td>\n",
       "    </tr>\n",
       "    <tr>\n",
       "      <th>27</th>\n",
       "      <td>Germany</td>\n",
       "      <td>252</td>\n",
       "    </tr>\n",
       "  </tbody>\n",
       "</table>\n",
       "</div>"
      ],
      "text/plain": [
       "       Pais  Numero de autores\n",
       "14    China               2837\n",
       "39    Japan               1286\n",
       "38    Italy                905\n",
       "91      USA                801\n",
       "27  Germany                252"
      ]
     },
     "execution_count": 3,
     "metadata": {},
     "output_type": "execute_result"
    }
   ],
   "source": [
    "data_frame_adi= msc.science_plots(my_data3)\n",
    "data_frame_adi1 = data_frame_adi.sort_values (by=['Numero de autores'], ascending=False)\n",
    "data_frame_adi2= data_frame_adi1.iloc[0:5]\n",
    "data_frame_adi2"
   ]
  },
  {
   "cell_type": "code",
   "execution_count": 5,
   "metadata": {},
   "outputs": [
    {
     "data": {
      "image/png": "[encoded data removed]",
      "text/plain": [
       "<Figure size 432x288 with 1 Axes>"
      ]
     },
     "metadata": {},
     "output_type": "display_data"
    }
   ],
   "source": [
    "import matplotlib.pyplot as plt\n",
    "labels = 'Japan','France', 'USA', 'Turkey', 'Italy'\n",
    "sizes = [81, 25, 24, 21, 19]\n",
    "fig1, x1 = plt.subplots()\n",
    "x1.pie(sizes, labels=labels, autopct='%1.1f%%', startangle=10)\n",
    "plt.title(\"Keyword- Buerger\")\n",
    "plt.savefig(\"img/autores_Buerger.jpg\") "
   ]
  },
  {
   "cell_type": "code",
   "execution_count": 6,
   "metadata": {},
   "outputs": [
    {
     "data": {
      "image/png": "[encoded data removed]",
      "text/plain": [
       "<Figure size 432x288 with 1 Axes>"
      ]
     },
     "metadata": {},
     "output_type": "display_data"
    }
   ],
   "source": [
    "import matplotlib.pyplot as plt\n",
    "labels = 'China', 'Japan', 'Italy', 'USA', 'Germany'\n",
    "sizes = [3127, 1290, 905, 850, 252]\n",
    "fig1, x1 = plt.subplots()\n",
    "x1.pie(sizes, labels=labels, autopct='%1.1f%%', startangle=10)\n",
    "plt.title(\"Keyword-Gastritis\")\n",
    "plt.savefig(\"img/autores_Gastritis.jpg\")"
   ]
  },
  {
   "cell_type": "markdown",
   "metadata": {},
   "source": [
    "## Ejercicio 4 [1 punto]\n",
    "\n",
    "**Interprete** los resultados de las figuras del **ejercicio 3**"
   ]
  },
  {
   "cell_type": "markdown",
   "metadata": {},
   "source": [
    "- Grafico de la busque Keyword con **Buerger** se representa que la mayor cantidad de autores son de Japon con un porcentaje de 47.6% seguido de francia con un pocentaje de 14.7%\n",
    "- Garafico de la busqueda Keyword con **Gastristis** se obtuvo que la mayor parte de autores son de china con un pocentaje de 48.7% seguido de Japon con 20.1% \n",
    "\n",
    "Por lo que se puede concluir que japon es uno de los paises que posee una gran cantidad de autores que han estudiando enfermedades como la gastritis y la enfermedad de Buerger (KEYWORD)\n"
   ]
  },
  {
   "cell_type": "markdown",
   "metadata": {},
   "source": [
    "*Escriba la respuesta del ejercicio 5*\n",
    ".\n",
    "\n",
    "\n",
    ".\n",
    "\n",
    "."
   ]
  },
  {
   "cell_type": "markdown",
   "metadata": {},
   "source": [
    "## Ejercicio 5 [2 puntos]\n",
    "\n",
    "Para algún **gen de las enzimas que intervienen en la ruta metabolica de la gluconeogenesis** ([Lista de genes por tipología](https://www.genome.jp/pathway/map00010+C00068)), realice lo siguiente: \n",
    "\n",
    "1. Una búsqueda en la página del [NCBI nucleotide](https://www.ncbi.nlm.nih.gov/nucleotide/).\n",
    "\n",
    "2. Descargue el ```Accession List``` de su búsqueda y guarde en la carpeta ```data```.\n",
    "\n",
    "3. Cargue el ```Accession List``` en este notebook y haga una descarga de las secuencias de los **quince primeros** IDs de la accesión. \n",
    "\n",
    "4. Arme un árbol filogenético para los resultados del paso 3.\n",
    "\n",
    "5. Guarde su arbol filogénetico en la carpeta ```img```\n",
    "\n",
    "5. Interprete el árbol del paso 4. "
   ]
  },
  {
   "cell_type": "code",
   "execution_count": 9,
   "metadata": {},
   "outputs": [
    {
     "ename": "FileNotFoundError",
     "evalue": "[Errno 2] No such file or directory: 'data/sequence_enolasa.seq'",
     "output_type": "error",
     "traceback": [
      "\u001b[1;31m---------------------------------------------------------------------------\u001b[0m",
      "\u001b[1;31mFileNotFoundError\u001b[0m                         Traceback (most recent call last)",
      "Input \u001b[1;32mIn [9]\u001b[0m, in \u001b[0;36m<cell line: 17>\u001b[1;34m()\u001b[0m\n\u001b[0;32m     14\u001b[0m \u001b[38;5;28;01mimport\u001b[39;00m \u001b[38;5;21;01mmatplotlib\u001b[39;00m\u001b[38;5;21;01m.\u001b[39;00m\u001b[38;5;21;01mpyplot\u001b[39;00m \u001b[38;5;28;01mas\u001b[39;00m \u001b[38;5;21;01mplt\u001b[39;00m\n\u001b[0;32m     16\u001b[0m \u001b[38;5;66;03m#Primero se descaga el archivo Accession List de PubMed y se lee sus datos\u001b[39;00m\n\u001b[1;32m---> 17\u001b[0m \u001b[38;5;28;01mwith\u001b[39;00m \u001b[38;5;28;43mopen\u001b[39;49m\u001b[43m(\u001b[49m\u001b[38;5;124;43m\"\u001b[39;49m\u001b[38;5;124;43mdata/sequence_enolasa.seq\u001b[39;49m\u001b[38;5;124;43m\"\u001b[39;49m\u001b[43m,\u001b[49m\u001b[43m \u001b[49m\u001b[38;5;124;43m\"\u001b[39;49m\u001b[38;5;124;43mr\u001b[39;49m\u001b[38;5;124;43m\"\u001b[39;49m\u001b[43m)\u001b[49m \u001b[38;5;28;01mas\u001b[39;00m f:\n\u001b[0;32m     18\u001b[0m     seq_enolasa\u001b[38;5;241m=\u001b[39m f\u001b[38;5;241m.\u001b[39mread()\n\u001b[0;32m     19\u001b[0m     seq_enolasaList\u001b[38;5;241m=\u001b[39mseq_enolasa\u001b[38;5;241m.\u001b[39msplit(\u001b[38;5;124m'\u001b[39m\u001b[38;5;130;01m\\n\u001b[39;00m\u001b[38;5;124m'\u001b[39m)\n",
      "\u001b[1;31mFileNotFoundError\u001b[0m: [Errno 2] No such file or directory: 'data/sequence_enolasa.seq'"
     ]
    }
   ],
   "source": [
    "#Bibliotecas usadas en la generación del arbol\n",
    "from Bio.Phylo.TreeConstruction import DistanceTreeConstructor\n",
    "from Bio.Phylo.TreeConstruction import DistanceCalculator \n",
    "from Bio.Align.Applications import ClustalwCommandline\n",
    "from Bio import AlignIO\n",
    "from Bio import Phylo\n",
    "from Bio import Entrez\n",
    "from Bio import SeqIO\n",
    "import Bio\n",
    "import warnings\n",
    "warnings.filterwarnings('ignore')\n",
    "import os\n",
    "import matplotlib\n",
    "import matplotlib.pyplot as plt\n",
    "\n",
    "#Primero se descaga el archivo Accession List de PubMed y se lee sus datos\n",
    "with open(\"data/sequence_enolasa.seq\", \"r\") as f:\n",
    "    seq_enolasa= f.read()\n",
    "    seq_enolasaList=seq_enolasa.split('\\n')\n",
    "seq_enolasaListT=[]\n",
    "cont=0\n",
    "for i in seq_enolasaList:\n",
    "    if cont<15:\n",
    "        seq_enolasaListT.append(i[:])\n",
    "        cont+=1\n",
    "#print(seqenolasaListT)"
   ]
  },
  {
   "cell_type": "code",
   "execution_count": null,
   "metadata": {},
   "outputs": [],
   "source": [
    "#Esta parte se adapto de las clases, y en especifico del ejemplo de los tiburones\n",
    "#Se establce conexxion con NCBI, por medio de Entrez e iniciar el bosquejo del arbol\n",
    "Entrez.email =\"gualapuro.moises@gmail.com\"\n",
    "ofile=open(\"data/sequence_enolasa.gb\",'w')\n",
    "with Entrez.efetch( db=\"nucleotide\", rettype=\"gb\", retmode=\"text\", id= seq_enolasaListT) as handle: \n",
    "    for seq_record in SeqIO.parse(handle, \"gb\"): \n",
    "        ofile.write(\">\"+str(seq_record.id)+str(seq_record.description[:50])+'\\n')\n",
    "        ofile.write(str(seq_record.seq)+'\\n')\n",
    "        ofile.write('\\n')\n",
    "        #Apertura de los archivos tipo FASTA y GB\n",
    "ffile=open(\"data/sequence_enolasa.fasta\",'w')\n",
    "with open(\"data/sequence_enolasa.gb\",'r') as genbank:\n",
    "    c=genbank.read()\n",
    "    for line in c:\n",
    "        ffile.write(str(line))"
   ]
  },
  {
   "cell_type": "markdown",
   "metadata": {},
   "source": []
  },
  {
   "cell_type": "markdown",
   "metadata": {},
   "source": [
    "## Ejercicio 6 [1 punto]\n",
    "\n",
    "\n",
    "1. Cree en GitHub un repositorio de nombre ```GBI6_ExamenPython```. \n",
    "2. Cree un archivo ```Readme.md``` que debe tener lo siguiente:\n",
    "- Datos personales\n",
    "- Características del computador\n",
    "- Versión de Python/Anaconda y de cada uno de los módulos/paquetes y utilizados\n",
    "- Explicación de la data utilizada\n",
    "- Un diagrama de procesos del módulo ```miningscience```\n",
    "3. Asegurarse que su repositorio tiene las carpetas ```data``` e ```img``` con los archivos que ha ido guardando en las preguntas anteriores.  \n",
    "4. Realice al menos 1 control de la versión (commits) por cada ejercicio (del 1 al 5), con un mensaje que inicie como: \n",
    "\n",
    "```sh \n",
    "Carlitos Alimaña ha realizado el ejercicio 1  \n",
    "```\n",
    "```sh \n",
    "Carlitos Alimaña ha realizado el ejercicio 2\n",
    "```\n",
    "```sh \n",
    "...\n",
    "```\n"
   ]
  },
  {
   "cell_type": "code",
   "execution_count": null,
   "metadata": {},
   "outputs": [],
   "source": []
  }
 ],
 "metadata": {
  "kernelspec": {
   "display_name": "Python 3 (ipykernel)",
   "language": "python",
   "name": "python3"
  },
  "language_info": {
   "codemirror_mode": {
    "name": "ipython",
    "version": 3
   },
   "file_extension": ".py",
   "mimetype": "text/x-python",
   "name": "python",
   "nbconvert_exporter": "python",
   "pygments_lexer": "ipython3",
   "version": "3.9.12"
  },
  "latex_envs": {
   "LaTeX_envs_menu_present": true,
   "autoclose": false,
   "autocomplete": true,
   "bibliofile": "biblio.bib",
   "cite_by": "apalike",
   "current_citInitial": 1,
   "eqLabelWithNumbers": true,
   "eqNumInitial": 1,
   "hotkeys": {
    "equation": "Ctrl-E",
    "itemize": "Ctrl-I"
   },
   "labels_anchors": false,
   "latex_user_defs": false,
   "report_style_numbering": false,
   "user_envs_cfg": false
  },
  "toc": {
   "base_numbering": 1,
   "nav_menu": {},
   "number_sections": true,
   "sideBar": false,
   "skip_h1_title": false,
   "title_cell": "Table of Contents",
   "title_sidebar": "Contents",
   "toc_cell": false,
   "toc_position": {
    "height": "1152.67px",
    "left": "41px",
    "top": "110px",
    "width": "253.458px"
   },
   "toc_section_display": true,
   "toc_window_display": false
  },
  "varInspector": {
   "cols": {
    "lenName": 16,
    "lenType": 16,
    "lenVar": 40
   },
   "kernels_config": {
    "python": {
     "delete_cmd_postfix": "",
     "delete_cmd_prefix": "del ",
     "library": "var_list.py",
     "varRefreshCmd": "print(var_dic_list())"
    },
    "r": {
     "delete_cmd_postfix": ") ",
     "delete_cmd_prefix": "rm(",
     "library": "var_list.r",
     "varRefreshCmd": "cat(var_dic_list()) "
    }
   },
   "types_to_exclude": [
    "module",
    "function",
    "builtin_function_or_method",
    "instance",
    "_Feature"
   ],
   "window_display": false
  }
 },
 "nbformat": 4,
 "nbformat_minor": 4
}
